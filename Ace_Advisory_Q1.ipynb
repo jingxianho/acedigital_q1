{
  "nbformat": 4,
  "nbformat_minor": 0,
  "metadata": {
    "colab": {
      "provenance": []
    },
    "kernelspec": {
      "name": "python3",
      "display_name": "Python 3"
    },
    "language_info": {
      "name": "python"
    }
  },
  "cells": [
    {
      "cell_type": "code",
      "execution_count": 3,
      "metadata": {
        "id": "alJQRBf2FeTu"
      },
      "outputs": [],
      "source": [
        "import pandas as pd\n",
        "import numpy as np\n",
        "from sklearn.decomposition import PCA\n",
        "from sklearn.cluster import KMeans\n",
        "from scipy import stats\n",
        "import seaborn as sns\n",
        "import matplotlib.pyplot as plt\n"
      ]
    },
    {
      "cell_type": "code",
      "source": [
        "from google.colab import drive\n",
        "drive.mount('/content/drive')"
      ],
      "metadata": {
        "colab": {
          "base_uri": "https://localhost:8080/"
        },
        "id": "aJSyzsAhFkkx",
        "outputId": "4fab23c7-1956-44c2-9655-28d7a7bc9d03"
      },
      "execution_count": 5,
      "outputs": [
        {
          "output_type": "stream",
          "name": "stdout",
          "text": [
            "Mounted at /content/drive\n"
          ]
        }
      ]
    },
    {
      "cell_type": "code",
      "source": [
        "df = pd.read_csv('/content/drive/MyDrive/Capstone Project/Ace Advisory/ingredient.csv')"
      ],
      "metadata": {
        "id": "BdJOU-wuFlKF"
      },
      "execution_count": 3,
      "outputs": []
    },
    {
      "cell_type": "code",
      "source": [
        "df.head()"
      ],
      "metadata": {
        "colab": {
          "base_uri": "https://localhost:8080/",
          "height": 206
        },
        "id": "108_xlJOGAIf",
        "outputId": "cff7d85c-d1b1-44bf-cf13-0136820192fa"
      },
      "execution_count": 175,
      "outputs": [
        {
          "output_type": "execute_result",
          "data": {
            "text/plain": [
              "         a      b     c     d      e     f      g     h     i\n",
              "0  1.51735  13.02  3.54  1.69  72.73  0.54   8.44  0.00  0.07\n",
              "1  1.53125  10.73  0.00  2.10  69.81  0.58  13.30  3.15  0.28\n",
              "2  1.52300  13.31  3.58  0.82  71.99  0.12  10.17  0.00  0.03\n",
              "3  1.51768  12.56  3.52  1.43  73.15  0.57   8.54  0.00  0.00\n",
              "4  1.51813  13.43  3.98  1.18  72.49  0.58   8.15  0.00  0.00"
            ],
            "text/html": [
              "\n",
              "  <div id=\"df-b7091288-005a-4dfd-a52e-770a8efb5a75\">\n",
              "    <div class=\"colab-df-container\">\n",
              "      <div>\n",
              "<style scoped>\n",
              "    .dataframe tbody tr th:only-of-type {\n",
              "        vertical-align: middle;\n",
              "    }\n",
              "\n",
              "    .dataframe tbody tr th {\n",
              "        vertical-align: top;\n",
              "    }\n",
              "\n",
              "    .dataframe thead th {\n",
              "        text-align: right;\n",
              "    }\n",
              "</style>\n",
              "<table border=\"1\" class=\"dataframe\">\n",
              "  <thead>\n",
              "    <tr style=\"text-align: right;\">\n",
              "      <th></th>\n",
              "      <th>a</th>\n",
              "      <th>b</th>\n",
              "      <th>c</th>\n",
              "      <th>d</th>\n",
              "      <th>e</th>\n",
              "      <th>f</th>\n",
              "      <th>g</th>\n",
              "      <th>h</th>\n",
              "      <th>i</th>\n",
              "    </tr>\n",
              "  </thead>\n",
              "  <tbody>\n",
              "    <tr>\n",
              "      <th>0</th>\n",
              "      <td>1.51735</td>\n",
              "      <td>13.02</td>\n",
              "      <td>3.54</td>\n",
              "      <td>1.69</td>\n",
              "      <td>72.73</td>\n",
              "      <td>0.54</td>\n",
              "      <td>8.44</td>\n",
              "      <td>0.00</td>\n",
              "      <td>0.07</td>\n",
              "    </tr>\n",
              "    <tr>\n",
              "      <th>1</th>\n",
              "      <td>1.53125</td>\n",
              "      <td>10.73</td>\n",
              "      <td>0.00</td>\n",
              "      <td>2.10</td>\n",
              "      <td>69.81</td>\n",
              "      <td>0.58</td>\n",
              "      <td>13.30</td>\n",
              "      <td>3.15</td>\n",
              "      <td>0.28</td>\n",
              "    </tr>\n",
              "    <tr>\n",
              "      <th>2</th>\n",
              "      <td>1.52300</td>\n",
              "      <td>13.31</td>\n",
              "      <td>3.58</td>\n",
              "      <td>0.82</td>\n",
              "      <td>71.99</td>\n",
              "      <td>0.12</td>\n",
              "      <td>10.17</td>\n",
              "      <td>0.00</td>\n",
              "      <td>0.03</td>\n",
              "    </tr>\n",
              "    <tr>\n",
              "      <th>3</th>\n",
              "      <td>1.51768</td>\n",
              "      <td>12.56</td>\n",
              "      <td>3.52</td>\n",
              "      <td>1.43</td>\n",
              "      <td>73.15</td>\n",
              "      <td>0.57</td>\n",
              "      <td>8.54</td>\n",
              "      <td>0.00</td>\n",
              "      <td>0.00</td>\n",
              "    </tr>\n",
              "    <tr>\n",
              "      <th>4</th>\n",
              "      <td>1.51813</td>\n",
              "      <td>13.43</td>\n",
              "      <td>3.98</td>\n",
              "      <td>1.18</td>\n",
              "      <td>72.49</td>\n",
              "      <td>0.58</td>\n",
              "      <td>8.15</td>\n",
              "      <td>0.00</td>\n",
              "      <td>0.00</td>\n",
              "    </tr>\n",
              "  </tbody>\n",
              "</table>\n",
              "</div>\n",
              "      <button class=\"colab-df-convert\" onclick=\"convertToInteractive('df-b7091288-005a-4dfd-a52e-770a8efb5a75')\"\n",
              "              title=\"Convert this dataframe to an interactive table.\"\n",
              "              style=\"display:none;\">\n",
              "        \n",
              "  <svg xmlns=\"http://www.w3.org/2000/svg\" height=\"24px\"viewBox=\"0 0 24 24\"\n",
              "       width=\"24px\">\n",
              "    <path d=\"M0 0h24v24H0V0z\" fill=\"none\"/>\n",
              "    <path d=\"M18.56 5.44l.94 2.06.94-2.06 2.06-.94-2.06-.94-.94-2.06-.94 2.06-2.06.94zm-11 1L8.5 8.5l.94-2.06 2.06-.94-2.06-.94L8.5 2.5l-.94 2.06-2.06.94zm10 10l.94 2.06.94-2.06 2.06-.94-2.06-.94-.94-2.06-.94 2.06-2.06.94z\"/><path d=\"M17.41 7.96l-1.37-1.37c-.4-.4-.92-.59-1.43-.59-.52 0-1.04.2-1.43.59L10.3 9.45l-7.72 7.72c-.78.78-.78 2.05 0 2.83L4 21.41c.39.39.9.59 1.41.59.51 0 1.02-.2 1.41-.59l7.78-7.78 2.81-2.81c.8-.78.8-2.07 0-2.86zM5.41 20L4 18.59l7.72-7.72 1.47 1.35L5.41 20z\"/>\n",
              "  </svg>\n",
              "      </button>\n",
              "      \n",
              "  <style>\n",
              "    .colab-df-container {\n",
              "      display:flex;\n",
              "      flex-wrap:wrap;\n",
              "      gap: 12px;\n",
              "    }\n",
              "\n",
              "    .colab-df-convert {\n",
              "      background-color: #E8F0FE;\n",
              "      border: none;\n",
              "      border-radius: 50%;\n",
              "      cursor: pointer;\n",
              "      display: none;\n",
              "      fill: #1967D2;\n",
              "      height: 32px;\n",
              "      padding: 0 0 0 0;\n",
              "      width: 32px;\n",
              "    }\n",
              "\n",
              "    .colab-df-convert:hover {\n",
              "      background-color: #E2EBFA;\n",
              "      box-shadow: 0px 1px 2px rgba(60, 64, 67, 0.3), 0px 1px 3px 1px rgba(60, 64, 67, 0.15);\n",
              "      fill: #174EA6;\n",
              "    }\n",
              "\n",
              "    [theme=dark] .colab-df-convert {\n",
              "      background-color: #3B4455;\n",
              "      fill: #D2E3FC;\n",
              "    }\n",
              "\n",
              "    [theme=dark] .colab-df-convert:hover {\n",
              "      background-color: #434B5C;\n",
              "      box-shadow: 0px 1px 3px 1px rgba(0, 0, 0, 0.15);\n",
              "      filter: drop-shadow(0px 1px 2px rgba(0, 0, 0, 0.3));\n",
              "      fill: #FFFFFF;\n",
              "    }\n",
              "  </style>\n",
              "\n",
              "      <script>\n",
              "        const buttonEl =\n",
              "          document.querySelector('#df-b7091288-005a-4dfd-a52e-770a8efb5a75 button.colab-df-convert');\n",
              "        buttonEl.style.display =\n",
              "          google.colab.kernel.accessAllowed ? 'block' : 'none';\n",
              "\n",
              "        async function convertToInteractive(key) {\n",
              "          const element = document.querySelector('#df-b7091288-005a-4dfd-a52e-770a8efb5a75');\n",
              "          const dataTable =\n",
              "            await google.colab.kernel.invokeFunction('convertToInteractive',\n",
              "                                                     [key], {});\n",
              "          if (!dataTable) return;\n",
              "\n",
              "          const docLinkHtml = 'Like what you see? Visit the ' +\n",
              "            '<a target=\"_blank\" href=https://colab.research.google.com/notebooks/data_table.ipynb>data table notebook</a>'\n",
              "            + ' to learn more about interactive tables.';\n",
              "          element.innerHTML = '';\n",
              "          dataTable['output_type'] = 'display_data';\n",
              "          await google.colab.output.renderOutput(dataTable, element);\n",
              "          const docLink = document.createElement('div');\n",
              "          docLink.innerHTML = docLinkHtml;\n",
              "          element.appendChild(docLink);\n",
              "        }\n",
              "      </script>\n",
              "    </div>\n",
              "  </div>\n",
              "  "
            ]
          },
          "metadata": {},
          "execution_count": 175
        }
      ]
    },
    {
      "cell_type": "markdown",
      "source": [
        "# Data Exploration"
      ],
      "metadata": {
        "id": "w4dm-cPdaiKM"
      }
    },
    {
      "cell_type": "code",
      "source": [
        "descriptive_stats = df[['a', 'b', 'c', 'd', 'e', 'f', 'g', 'h', 'i']].describe()\n",
        "print(descriptive_stats)"
      ],
      "metadata": {
        "colab": {
          "base_uri": "https://localhost:8080/"
        },
        "id": "igcW6COnGU-P",
        "outputId": "5cafac79-b51f-4ab8-c85b-cdd12f97a8c9"
      },
      "execution_count": 176,
      "outputs": [
        {
          "output_type": "stream",
          "name": "stdout",
          "text": [
            "                a           b           c           d           e           f  \\\n",
            "count  214.000000  214.000000  214.000000  214.000000  214.000000  214.000000   \n",
            "mean     1.518365   13.407850    2.684533    1.444907   72.650935    0.497056   \n",
            "std      0.003037    0.816604    1.442408    0.499270    0.774546    0.652192   \n",
            "min      1.511150   10.730000    0.000000    0.290000   69.810000    0.000000   \n",
            "25%      1.516522   12.907500    2.115000    1.190000   72.280000    0.122500   \n",
            "50%      1.517680   13.300000    3.480000    1.360000   72.790000    0.555000   \n",
            "75%      1.519157   13.825000    3.600000    1.630000   73.087500    0.610000   \n",
            "max      1.533930   17.380000    4.490000    3.500000   75.410000    6.210000   \n",
            "\n",
            "                g           h           i  \n",
            "count  214.000000  214.000000  214.000000  \n",
            "mean     8.956963    0.175047    0.057009  \n",
            "std      1.423153    0.497219    0.097439  \n",
            "min      5.430000    0.000000    0.000000  \n",
            "25%      8.240000    0.000000    0.000000  \n",
            "50%      8.600000    0.000000    0.000000  \n",
            "75%      9.172500    0.000000    0.100000  \n",
            "max     16.190000    3.150000    0.510000  \n"
          ]
        }
      ]
    },
    {
      "cell_type": "code",
      "source": [
        "missing_values = df.isnull().any()\n",
        "missing_columns = missing_values[missing_values].index.tolist()\n",
        "\n",
        "print(\"Columns with missing values:\")\n",
        "for column in missing_columns:\n",
        "    print(column)"
      ],
      "metadata": {
        "colab": {
          "base_uri": "https://localhost:8080/"
        },
        "id": "7abXaWpyxvDb",
        "outputId": "c2e3e1d5-59a4-4f3a-f314-e424a5750d8f"
      },
      "execution_count": 177,
      "outputs": [
        {
          "output_type": "stream",
          "name": "stdout",
          "text": [
            "Columns with missing values:\n"
          ]
        }
      ]
    },
    {
      "cell_type": "code",
      "source": [
        "import seaborn as sns\n",
        "import matplotlib.pyplot as plt\n",
        "\n",
        "# Assuming you have a DataFrame named 'df' with columns A to I\n",
        "\n",
        "# Select the columns for correlation analysis\n",
        "columns_for_correlation = ['a', 'b', 'c', 'd', 'e', 'f', 'g', 'h', 'i']  # Replace with the actual column names\n",
        "\n",
        "# Create a new DataFrame with only the selected columns\n",
        "data_for_correlation = df[columns_for_correlation]\n",
        "\n",
        "# Perform correlation analysis\n",
        "correlation_matrix = data_for_correlation.corr()\n",
        "\n",
        "# Plot the correlation matrix as a heatmap\n",
        "plt.figure(figsize=(12, 10))  # Increase the figsize\n",
        "sns.heatmap(correlation_matrix, annot=True, fmt='.2f', cmap='coolwarm', square=True)\n",
        "\n",
        "# Add title and display the plot\n",
        "plt.title(\"Correlation Matrix\")\n",
        "plt.show()"
      ],
      "metadata": {
        "colab": {
          "base_uri": "https://localhost:8080/",
          "height": 827
        },
        "id": "T4cs2F7qxpm3",
        "outputId": "08dc9bb1-016d-4521-cf88-c63f4227aa87"
      },
      "execution_count": 178,
      "outputs": [
        {
          "output_type": "display_data",
          "data": {
            "text/plain": [
              "<Figure size 1200x1000 with 2 Axes>"
            ],
            "image/png": "[encoded data removed]"
          },
          "metadata": {}
        }
      ]
    },
    {
      "cell_type": "code",
      "source": [
        "import statsmodels.api as sm\n",
        "\n",
        "\n",
        "# Assuming you have your DataFrame stored in a variable called 'df'\n",
        "columns_to_check = ['a', 'b', 'c', 'd', 'e', 'f', 'g', 'h', 'i']\n",
        "subset_df = df[columns_to_check]\n",
        "\n",
        "# Add a constant column for the intercept in the VIF calculation\n",
        "subset_df = sm.add_constant(subset_df)\n",
        "\n",
        "# Calculate the VIF for each feature\n",
        "vif = pd.DataFrame()\n",
        "vif[\"Variable\"] = subset_df.columns\n",
        "vif[\"VIF\"] = [sm.OLS(subset_df[col], subset_df.drop(col, axis=1)).fit().rsquared for col in subset_df.columns]\n",
        "\n",
        "print(vif)"
      ],
      "metadata": {
        "colab": {
          "base_uri": "https://localhost:8080/"
        },
        "id": "JUGg2NUC1eMS",
        "outputId": "75f7076f-4af3-492b-8e31-2f35f0e8fe2a"
      },
      "execution_count": 179,
      "outputs": [
        {
          "output_type": "stream",
          "name": "stdout",
          "text": [
            "  Variable       VIF\n",
            "0    const  1.000000\n",
            "1        a  0.894788\n",
            "2        b  0.983816\n",
            "3        c  0.995189\n",
            "4        d  0.961063\n",
            "5        e  0.982811\n",
            "6        f  0.977075\n",
            "7        g  0.995270\n",
            "8        h  0.961738\n",
            "9        i  0.179008\n"
          ]
        }
      ]
    },
    {
      "cell_type": "code",
      "source": [
        "#from scipy.stats import zscore\n",
        "\n",
        "# Step 1: Data Preparation\n",
        "# Assuming you have a DataFrame named 'df' with columns representing variations and additives\n",
        "\n",
        "# Step 2: Standardization\n",
        "#additives = df\n",
        "#additives_std = additives.apply(zscore)\n",
        "\n",
        "#pca = PCA()\n",
        "#additives_pca = pca.fit_transform(additives_std)"
      ],
      "metadata": {
        "id": "u9Jtz_Z3GaWf"
      },
      "execution_count": 180,
      "outputs": []
    },
    {
      "cell_type": "code",
      "source": [
        "#additives_std"
      ],
      "metadata": {
        "id": "xiSLqjo34atz"
      },
      "execution_count": null,
      "outputs": []
    },
    {
      "cell_type": "markdown",
      "source": [
        "#  PCA"
      ],
      "metadata": {
        "id": "h7X9oF0KarDZ"
      }
    },
    {
      "cell_type": "code",
      "source": [
        "from sklearn.preprocessing import MinMaxScaler\n",
        "\n",
        "# Step 2: Standardization\n",
        "additives = df\n",
        "scaler = MinMaxScaler()\n",
        "additives_std = scaler.fit_transform(additives)\n",
        "\n",
        "\n",
        "pca = PCA()\n",
        "additives_pca = pca.fit_transform(additives_std)\n"
      ],
      "metadata": {
        "id": "RdTKEQ2SGqMX"
      },
      "execution_count": 39,
      "outputs": []
    },
    {
      "cell_type": "code",
      "source": [
        "additives_pca"
      ],
      "metadata": {
        "colab": {
          "base_uri": "https://localhost:8080/"
        },
        "id": "lvpdrkW3HprI",
        "outputId": "6233bd7e-f1e5-4cce-bae0-0b8cf84b469d"
      },
      "execution_count": 40,
      "outputs": [
        {
          "output_type": "execute_result",
          "data": {
            "text/plain": [
              "array([[-0.18478222, -0.06713815,  0.07099425, ..., -0.07581091,\n",
              "        -0.01322053, -0.00998742],\n",
              "       [ 0.82254736,  0.73009536,  0.40374036, ...,  0.03584483,\n",
              "         0.0580406 ,  0.00441128],\n",
              "       [-0.22560457,  0.22594417, -0.19833409, ...,  0.00933912,\n",
              "        -0.02173728, -0.00849109],\n",
              "       ...,\n",
              "       [-0.24097055, -0.06033277, -0.10394438, ...,  0.02238841,\n",
              "        -0.00163738, -0.00754858],\n",
              "       [-0.28748845,  0.19446059,  0.23838493, ...,  0.04266485,\n",
              "         0.03627289,  0.00289568],\n",
              "       [ 0.59722396, -0.3858702 ,  0.29988969, ...,  0.42432307,\n",
              "        -0.01024153, -0.00829793]])"
            ]
          },
          "metadata": {},
          "execution_count": 40
        }
      ]
    },
    {
      "cell_type": "code",
      "source": [
        "# Determine the number of principal components to retain based on explained variance ratio\n",
        "explained_variance_ratio = pca.explained_variance_ratio_\n",
        "cumulative_explained_variance = np.cumsum(explained_variance_ratio)"
      ],
      "metadata": {
        "id": "5gPvawV9I5Sq"
      },
      "execution_count": 41,
      "outputs": []
    },
    {
      "cell_type": "code",
      "source": [
        "explained_variance_ratio"
      ],
      "metadata": {
        "colab": {
          "base_uri": "https://localhost:8080/"
        },
        "id": "6a_zwnB9I9JX",
        "outputId": "fcb1701a-49ce-4819-b18c-6936462453dd"
      },
      "execution_count": 42,
      "outputs": [
        {
          "output_type": "execute_result",
          "data": {
            "text/plain": [
              "array([4.54295689e-01, 1.79900973e-01, 1.26494594e-01, 9.79784747e-02,\n",
              "       6.86239844e-02, 4.21410072e-02, 2.60979021e-02, 4.32796192e-03,\n",
              "       1.39413736e-04])"
            ]
          },
          "metadata": {},
          "execution_count": 42
        }
      ]
    },
    {
      "cell_type": "code",
      "source": [
        "cumulative_explained_variance"
      ],
      "metadata": {
        "colab": {
          "base_uri": "https://localhost:8080/"
        },
        "id": "rv31ENuFMnYK",
        "outputId": "6d70c83d-f613-462e-dc04-37eed36b1218"
      },
      "execution_count": 43,
      "outputs": [
        {
          "output_type": "execute_result",
          "data": {
            "text/plain": [
              "array([0.45429569, 0.63419666, 0.76069126, 0.85866973, 0.92729371,\n",
              "       0.96943472, 0.99553262, 0.99986059, 1.        ])"
            ]
          },
          "metadata": {},
          "execution_count": 43
        }
      ]
    },
    {
      "cell_type": "code",
      "source": [
        "n_components = np.argmax(cumulative_explained_variance >= 0.90) + 1  # Adjust threshold as needed"
      ],
      "metadata": {
        "id": "9f03xr2EJA6S"
      },
      "execution_count": 62,
      "outputs": []
    },
    {
      "cell_type": "code",
      "source": [
        "n_components"
      ],
      "metadata": {
        "colab": {
          "base_uri": "https://localhost:8080/"
        },
        "id": "bPTqzptuMevs",
        "outputId": "ca607d0c-a49e-496c-a4c2-98b5cf66ad55"
      },
      "execution_count": 63,
      "outputs": [
        {
          "output_type": "execute_result",
          "data": {
            "text/plain": [
              "5"
            ]
          },
          "metadata": {},
          "execution_count": 63
        }
      ]
    },
    {
      "cell_type": "code",
      "source": [
        "# Transform data using selected principal components\n",
        "additives_pca_subset = additives_pca[:, :n_components]"
      ],
      "metadata": {
        "id": "nJrM2VUQJsmJ"
      },
      "execution_count": 64,
      "outputs": []
    },
    {
      "cell_type": "code",
      "source": [],
      "metadata": {
        "id": "wCtQhL6uJt5Y"
      },
      "execution_count": 64,
      "outputs": []
    },
    {
      "cell_type": "markdown",
      "source": [
        "# Clustering"
      ],
      "metadata": {
        "id": "lyVY_DDZawh0"
      }
    },
    {
      "cell_type": "code",
      "source": [
        "from sklearn.cluster import AgglomerativeClustering\n",
        "from sklearn.metrics import silhouette_score\n",
        "\n",
        "# Step 3: Clustering with Optimal Number of Clusters\n",
        "silhouette_scores = []\n",
        "max_clusters = 10  # Maximum number of clusters to consider\n",
        "\n",
        "for n_clusters in range(2, max_clusters+1):\n",
        "    # Perform hierarchical clustering\n",
        "    hierarchical = AgglomerativeClustering(n_clusters=n_clusters)\n",
        "    cluster_labels = hierarchical.fit_predict(additives_pca_subset)\n",
        "    silhouette_avg = silhouette_score(additives_pca_subset, cluster_labels)\n",
        "    silhouette_scores.append(silhouette_avg)\n",
        "\n",
        "optimal_n_clusters = np.argmax(silhouette_scores) + 2  # Add 2 because range starts from 2\n",
        "\n",
        "# Step 4: Clustering with Optimal Number of Clusters\n",
        "hierarchical = AgglomerativeClustering(n_clusters=optimal_n_clusters)\n",
        "cluster_labels = hierarchical.fit_predict(additives_pca_subset)"
      ],
      "metadata": {
        "id": "dePmY0y03u6y"
      },
      "execution_count": 65,
      "outputs": []
    },
    {
      "cell_type": "code",
      "source": [
        "silhouette_scores"
      ],
      "metadata": {
        "colab": {
          "base_uri": "https://localhost:8080/"
        },
        "id": "hRuRiSFT8kLQ",
        "outputId": "86d50b3b-9db7-45e8-90b2-5d74fe611f49"
      },
      "execution_count": 66,
      "outputs": [
        {
          "output_type": "execute_result",
          "data": {
            "text/plain": [
              "[0.5351963963409,\n",
              " 0.5402687777744077,\n",
              " 0.32436090300007836,\n",
              " 0.3377954082119441,\n",
              " 0.3781520099810061,\n",
              " 0.38244129805063426,\n",
              " 0.39340249323571586,\n",
              " 0.40138020685663867,\n",
              " 0.3989456039236558]"
            ]
          },
          "metadata": {},
          "execution_count": 66
        }
      ]
    },
    {
      "cell_type": "code",
      "source": [
        "optimal_n_clusters"
      ],
      "metadata": {
        "colab": {
          "base_uri": "https://localhost:8080/"
        },
        "id": "r0LWTmkC2sbf",
        "outputId": "744d8c99-c688-4265-b39c-dd5a7ef04378"
      },
      "execution_count": 67,
      "outputs": [
        {
          "output_type": "execute_result",
          "data": {
            "text/plain": [
              "3"
            ]
          },
          "metadata": {},
          "execution_count": 67
        }
      ]
    },
    {
      "cell_type": "code",
      "source": [
        "# Step 4: Subset Selection\n",
        "# Create separate DataFrames for each cluster/group\n",
        "df_clustered = df.copy()\n",
        "df_clustered['Cluster'] = cluster_labels"
      ],
      "metadata": {
        "id": "MvDtCIZmJ5ZQ"
      },
      "execution_count": 68,
      "outputs": []
    },
    {
      "cell_type": "code",
      "source": [
        "cluster0 = df_clustered.loc[df_clustered['Cluster']==0]\n",
        "cluster1 = df_clustered.loc[df_clustered['Cluster']==1]\n",
        "cluster2 = df_clustered.loc[df_clustered['Cluster']==2]\n",
        "\n"
      ],
      "metadata": {
        "id": "kKRyyZ0zJ9hN"
      },
      "execution_count": 8,
      "outputs": []
    },
    {
      "cell_type": "code",
      "source": [
        "cluster0.describe()"
      ],
      "metadata": {
        "colab": {
          "base_uri": "https://localhost:8080/",
          "height": 300
        },
        "id": "fqhKdQ3JJ-va",
        "outputId": "1638db43-09d0-406c-870b-df69058dfb67"
      },
      "execution_count": 70,
      "outputs": [
        {
          "output_type": "execute_result",
          "data": {
            "text/plain": [
              "                a           b           c           d           e           f  \\\n",
              "count  162.000000  162.000000  162.000000  162.000000  162.000000  162.000000   \n",
              "mean     1.518195   13.246235    3.431173    1.305494   72.625309    0.480802   \n",
              "std      0.002210    0.534369    0.463439    0.308700    0.542848    0.216915   \n",
              "min      1.512150   11.030000    1.350000    0.290000   70.570000    0.000000   \n",
              "25%      1.516655   12.872500    3.430000    1.172500   72.322500    0.402500   \n",
              "50%      1.517690   13.210000    3.540000    1.310000   72.750000    0.570000   \n",
              "75%      1.518965   13.530000    3.650000    1.520000   73.000000    0.610000   \n",
              "max      1.527250   14.860000    4.490000    2.120000   73.810000    1.100000   \n",
              "\n",
              "                g           h           i  Cluster  \n",
              "count  162.000000  162.000000  162.000000    162.0  \n",
              "mean     8.700000    0.015247    0.061605      0.0  \n",
              "std      0.734871    0.085431    0.095436      0.0  \n",
              "min      7.080000    0.000000    0.000000      0.0  \n",
              "25%      8.210000    0.000000    0.000000      0.0  \n",
              "50%      8.550000    0.000000    0.000000      0.0  \n",
              "75%      8.982500    0.000000    0.117500      0.0  \n",
              "max     11.640000    0.760000    0.370000      0.0  "
            ],
            "text/html": [
              "\n",
              "  <div id=\"df-d8907960-e7a0-40ea-910f-13bba051eb92\">\n",
              "    <div class=\"colab-df-container\">\n",
              "      <div>\n",
              "<style scoped>\n",
              "    .dataframe tbody tr th:only-of-type {\n",
              "        vertical-align: middle;\n",
              "    }\n",
              "\n",
              "    .dataframe tbody tr th {\n",
              "        vertical-align: top;\n",
              "    }\n",
              "\n",
              "    .dataframe thead th {\n",
              "        text-align: right;\n",
              "    }\n",
              "</style>\n",
              "<table border=\"1\" class=\"dataframe\">\n",
              "  <thead>\n",
              "    <tr style=\"text-align: right;\">\n",
              "      <th></th>\n",
              "      <th>a</th>\n",
              "      <th>b</th>\n",
              "      <th>c</th>\n",
              "      <th>d</th>\n",
              "      <th>e</th>\n",
              "      <th>f</th>\n",
              "      <th>g</th>\n",
              "      <th>h</th>\n",
              "      <th>i</th>\n",
              "      <th>Cluster</th>\n",
              "    </tr>\n",
              "  </thead>\n",
              "  <tbody>\n",
              "    <tr>\n",
              "      <th>count</th>\n",
              "      <td>162.000000</td>\n",
              "      <td>162.000000</td>\n",
              "      <td>162.000000</td>\n",
              "      <td>162.000000</td>\n",
              "      <td>162.000000</td>\n",
              "      <td>162.000000</td>\n",
              "      <td>162.000000</td>\n",
              "      <td>162.000000</td>\n",
              "      <td>162.000000</td>\n",
              "      <td>162.0</td>\n",
              "    </tr>\n",
              "    <tr>\n",
              "      <th>mean</th>\n",
              "      <td>1.518195</td>\n",
              "      <td>13.246235</td>\n",
              "      <td>3.431173</td>\n",
              "      <td>1.305494</td>\n",
              "      <td>72.625309</td>\n",
              "      <td>0.480802</td>\n",
              "      <td>8.700000</td>\n",
              "      <td>0.015247</td>\n",
              "      <td>0.061605</td>\n",
              "      <td>0.0</td>\n",
              "    </tr>\n",
              "    <tr>\n",
              "      <th>std</th>\n",
              "      <td>0.002210</td>\n",
              "      <td>0.534369</td>\n",
              "      <td>0.463439</td>\n",
              "      <td>0.308700</td>\n",
              "      <td>0.542848</td>\n",
              "      <td>0.216915</td>\n",
              "      <td>0.734871</td>\n",
              "      <td>0.085431</td>\n",
              "      <td>0.095436</td>\n",
              "      <td>0.0</td>\n",
              "    </tr>\n",
              "    <tr>\n",
              "      <th>min</th>\n",
              "      <td>1.512150</td>\n",
              "      <td>11.030000</td>\n",
              "      <td>1.350000</td>\n",
              "      <td>0.290000</td>\n",
              "      <td>70.570000</td>\n",
              "      <td>0.000000</td>\n",
              "      <td>7.080000</td>\n",
              "      <td>0.000000</td>\n",
              "      <td>0.000000</td>\n",
              "      <td>0.0</td>\n",
              "    </tr>\n",
              "    <tr>\n",
              "      <th>25%</th>\n",
              "      <td>1.516655</td>\n",
              "      <td>12.872500</td>\n",
              "      <td>3.430000</td>\n",
              "      <td>1.172500</td>\n",
              "      <td>72.322500</td>\n",
              "      <td>0.402500</td>\n",
              "      <td>8.210000</td>\n",
              "      <td>0.000000</td>\n",
              "      <td>0.000000</td>\n",
              "      <td>0.0</td>\n",
              "    </tr>\n",
              "    <tr>\n",
              "      <th>50%</th>\n",
              "      <td>1.517690</td>\n",
              "      <td>13.210000</td>\n",
              "      <td>3.540000</td>\n",
              "      <td>1.310000</td>\n",
              "      <td>72.750000</td>\n",
              "      <td>0.570000</td>\n",
              "      <td>8.550000</td>\n",
              "      <td>0.000000</td>\n",
              "      <td>0.000000</td>\n",
              "      <td>0.0</td>\n",
              "    </tr>\n",
              "    <tr>\n",
              "      <th>75%</th>\n",
              "      <td>1.518965</td>\n",
              "      <td>13.530000</td>\n",
              "      <td>3.650000</td>\n",
              "      <td>1.520000</td>\n",
              "      <td>73.000000</td>\n",
              "      <td>0.610000</td>\n",
              "      <td>8.982500</td>\n",
              "      <td>0.000000</td>\n",
              "      <td>0.117500</td>\n",
              "      <td>0.0</td>\n",
              "    </tr>\n",
              "    <tr>\n",
              "      <th>max</th>\n",
              "      <td>1.527250</td>\n",
              "      <td>14.860000</td>\n",
              "      <td>4.490000</td>\n",
              "      <td>2.120000</td>\n",
              "      <td>73.810000</td>\n",
              "      <td>1.100000</td>\n",
              "      <td>11.640000</td>\n",
              "      <td>0.760000</td>\n",
              "      <td>0.370000</td>\n",
              "      <td>0.0</td>\n",
              "    </tr>\n",
              "  </tbody>\n",
              "</table>\n",
              "</div>\n",
              "      <button class=\"colab-df-convert\" onclick=\"convertToInteractive('df-d8907960-e7a0-40ea-910f-13bba051eb92')\"\n",
              "              title=\"Convert this dataframe to an interactive table.\"\n",
              "              style=\"display:none;\">\n",
              "        \n",
              "  <svg xmlns=\"http://www.w3.org/2000/svg\" height=\"24px\"viewBox=\"0 0 24 24\"\n",
              "       width=\"24px\">\n",
              "    <path d=\"M0 0h24v24H0V0z\" fill=\"none\"/>\n",
              "    <path d=\"M18.56 5.44l.94 2.06.94-2.06 2.06-.94-2.06-.94-.94-2.06-.94 2.06-2.06.94zm-11 1L8.5 8.5l.94-2.06 2.06-.94-2.06-.94L8.5 2.5l-.94 2.06-2.06.94zm10 10l.94 2.06.94-2.06 2.06-.94-2.06-.94-.94-2.06-.94 2.06-2.06.94z\"/><path d=\"M17.41 7.96l-1.37-1.37c-.4-.4-.92-.59-1.43-.59-.52 0-1.04.2-1.43.59L10.3 9.45l-7.72 7.72c-.78.78-.78 2.05 0 2.83L4 21.41c.39.39.9.59 1.41.59.51 0 1.02-.2 1.41-.59l7.78-7.78 2.81-2.81c.8-.78.8-2.07 0-2.86zM5.41 20L4 18.59l7.72-7.72 1.47 1.35L5.41 20z\"/>\n",
              "  </svg>\n",
              "      </button>\n",
              "      \n",
              "  <style>\n",
              "    .colab-df-container {\n",
              "      display:flex;\n",
              "      flex-wrap:wrap;\n",
              "      gap: 12px;\n",
              "    }\n",
              "\n",
              "    .colab-df-convert {\n",
              "      background-color: #E8F0FE;\n",
              "      border: none;\n",
              "      border-radius: 50%;\n",
              "      cursor: pointer;\n",
              "      display: none;\n",
              "      fill: #1967D2;\n",
              "      height: 32px;\n",
              "      padding: 0 0 0 0;\n",
              "      width: 32px;\n",
              "    }\n",
              "\n",
              "    .colab-df-convert:hover {\n",
              "      background-color: #E2EBFA;\n",
              "      box-shadow: 0px 1px 2px rgba(60, 64, 67, 0.3), 0px 1px 3px 1px rgba(60, 64, 67, 0.15);\n",
              "      fill: #174EA6;\n",
              "    }\n",
              "\n",
              "    [theme=dark] .colab-df-convert {\n",
              "      background-color: #3B4455;\n",
              "      fill: #D2E3FC;\n",
              "    }\n",
              "\n",
              "    [theme=dark] .colab-df-convert:hover {\n",
              "      background-color: #434B5C;\n",
              "      box-shadow: 0px 1px 3px 1px rgba(0, 0, 0, 0.15);\n",
              "      filter: drop-shadow(0px 1px 2px rgba(0, 0, 0, 0.3));\n",
              "      fill: #FFFFFF;\n",
              "    }\n",
              "  </style>\n",
              "\n",
              "      <script>\n",
              "        const buttonEl =\n",
              "          document.querySelector('#df-d8907960-e7a0-40ea-910f-13bba051eb92 button.colab-df-convert');\n",
              "        buttonEl.style.display =\n",
              "          google.colab.kernel.accessAllowed ? 'block' : 'none';\n",
              "\n",
              "        async function convertToInteractive(key) {\n",
              "          const element = document.querySelector('#df-d8907960-e7a0-40ea-910f-13bba051eb92');\n",
              "          const dataTable =\n",
              "            await google.colab.kernel.invokeFunction('convertToInteractive',\n",
              "                                                     [key], {});\n",
              "          if (!dataTable) return;\n",
              "\n",
              "          const docLinkHtml = 'Like what you see? Visit the ' +\n",
              "            '<a target=\"_blank\" href=https://colab.research.google.com/notebooks/data_table.ipynb>data table notebook</a>'\n",
              "            + ' to learn more about interactive tables.';\n",
              "          element.innerHTML = '';\n",
              "          dataTable['output_type'] = 'display_data';\n",
              "          await google.colab.output.renderOutput(dataTable, element);\n",
              "          const docLink = document.createElement('div');\n",
              "          docLink.innerHTML = docLinkHtml;\n",
              "          element.appendChild(docLink);\n",
              "        }\n",
              "      </script>\n",
              "    </div>\n",
              "  </div>\n",
              "  "
            ]
          },
          "metadata": {},
          "execution_count": 70
        }
      ]
    },
    {
      "cell_type": "code",
      "source": [
        "cluster1.describe()"
      ],
      "metadata": {
        "colab": {
          "base_uri": "https://localhost:8080/",
          "height": 300
        },
        "id": "kd7IFUc8OpHV",
        "outputId": "ee2e1176-56dd-4249-9179-923fb302e901"
      },
      "execution_count": 71,
      "outputs": [
        {
          "output_type": "execute_result",
          "data": {
            "text/plain": [
              "               a         b          c          d          e          f  \\\n",
              "count  31.000000  31.00000  31.000000  31.000000  31.000000  31.000000   \n",
              "mean    1.516329  14.56000   0.480968   2.219032  72.786452   0.652581   \n",
              "std     0.002658   0.77783   1.034332   0.591159   1.261606   1.577741   \n",
              "min     1.511150  13.00000   0.000000   0.340000  69.890000   0.000000   \n",
              "25%     1.515225  14.21500   0.000000   1.960000  72.830000   0.000000   \n",
              "50%     1.516230  14.40000   0.000000   2.220000  73.110000   0.000000   \n",
              "75%     1.517150  14.89000   0.000000   2.600000  73.375000   0.225000   \n",
              "max     1.523650  17.38000   3.260000   3.500000  75.410000   6.210000   \n",
              "\n",
              "               g          h          i  Cluster  \n",
              "count  31.000000  31.000000  31.000000     31.0  \n",
              "mean    8.187742   1.019355   0.012581      1.0  \n",
              "std     1.143048   0.725998   0.028979      0.0  \n",
              "min     5.430000   0.000000   0.000000      1.0  \n",
              "25%     7.935000   0.550000   0.000000      1.0  \n",
              "50%     8.530000   0.810000   0.000000      1.0  \n",
              "75%     8.890000   1.590000   0.000000      1.0  \n",
              "max     9.760000   2.880000   0.090000      1.0  "
            ],
            "text/html": [
              "\n",
              "  <div id=\"df-fe5cb0f7-974b-4773-8b05-54ea2efea4ec\">\n",
              "    <div class=\"colab-df-container\">\n",
              "      <div>\n",
              "<style scoped>\n",
              "    .dataframe tbody tr th:only-of-type {\n",
              "        vertical-align: middle;\n",
              "    }\n",
              "\n",
              "    .dataframe tbody tr th {\n",
              "        vertical-align: top;\n",
              "    }\n",
              "\n",
              "    .dataframe thead th {\n",
              "        text-align: right;\n",
              "    }\n",
              "</style>\n",
              "<table border=\"1\" class=\"dataframe\">\n",
              "  <thead>\n",
              "    <tr style=\"text-align: right;\">\n",
              "      <th></th>\n",
              "      <th>a</th>\n",
              "      <th>b</th>\n",
              "      <th>c</th>\n",
              "      <th>d</th>\n",
              "      <th>e</th>\n",
              "      <th>f</th>\n",
              "      <th>g</th>\n",
              "      <th>h</th>\n",
              "      <th>i</th>\n",
              "      <th>Cluster</th>\n",
              "    </tr>\n",
              "  </thead>\n",
              "  <tbody>\n",
              "    <tr>\n",
              "      <th>count</th>\n",
              "      <td>31.000000</td>\n",
              "      <td>31.00000</td>\n",
              "      <td>31.000000</td>\n",
              "      <td>31.000000</td>\n",
              "      <td>31.000000</td>\n",
              "      <td>31.000000</td>\n",
              "      <td>31.000000</td>\n",
              "      <td>31.000000</td>\n",
              "      <td>31.000000</td>\n",
              "      <td>31.0</td>\n",
              "    </tr>\n",
              "    <tr>\n",
              "      <th>mean</th>\n",
              "      <td>1.516329</td>\n",
              "      <td>14.56000</td>\n",
              "      <td>0.480968</td>\n",
              "      <td>2.219032</td>\n",
              "      <td>72.786452</td>\n",
              "      <td>0.652581</td>\n",
              "      <td>8.187742</td>\n",
              "      <td>1.019355</td>\n",
              "      <td>0.012581</td>\n",
              "      <td>1.0</td>\n",
              "    </tr>\n",
              "    <tr>\n",
              "      <th>std</th>\n",
              "      <td>0.002658</td>\n",
              "      <td>0.77783</td>\n",
              "      <td>1.034332</td>\n",
              "      <td>0.591159</td>\n",
              "      <td>1.261606</td>\n",
              "      <td>1.577741</td>\n",
              "      <td>1.143048</td>\n",
              "      <td>0.725998</td>\n",
              "      <td>0.028979</td>\n",
              "      <td>0.0</td>\n",
              "    </tr>\n",
              "    <tr>\n",
              "      <th>min</th>\n",
              "      <td>1.511150</td>\n",
              "      <td>13.00000</td>\n",
              "      <td>0.000000</td>\n",
              "      <td>0.340000</td>\n",
              "      <td>69.890000</td>\n",
              "      <td>0.000000</td>\n",
              "      <td>5.430000</td>\n",
              "      <td>0.000000</td>\n",
              "      <td>0.000000</td>\n",
              "      <td>1.0</td>\n",
              "    </tr>\n",
              "    <tr>\n",
              "      <th>25%</th>\n",
              "      <td>1.515225</td>\n",
              "      <td>14.21500</td>\n",
              "      <td>0.000000</td>\n",
              "      <td>1.960000</td>\n",
              "      <td>72.830000</td>\n",
              "      <td>0.000000</td>\n",
              "      <td>7.935000</td>\n",
              "      <td>0.550000</td>\n",
              "      <td>0.000000</td>\n",
              "      <td>1.0</td>\n",
              "    </tr>\n",
              "    <tr>\n",
              "      <th>50%</th>\n",
              "      <td>1.516230</td>\n",
              "      <td>14.40000</td>\n",
              "      <td>0.000000</td>\n",
              "      <td>2.220000</td>\n",
              "      <td>73.110000</td>\n",
              "      <td>0.000000</td>\n",
              "      <td>8.530000</td>\n",
              "      <td>0.810000</td>\n",
              "      <td>0.000000</td>\n",
              "      <td>1.0</td>\n",
              "    </tr>\n",
              "    <tr>\n",
              "      <th>75%</th>\n",
              "      <td>1.517150</td>\n",
              "      <td>14.89000</td>\n",
              "      <td>0.000000</td>\n",
              "      <td>2.600000</td>\n",
              "      <td>73.375000</td>\n",
              "      <td>0.225000</td>\n",
              "      <td>8.890000</td>\n",
              "      <td>1.590000</td>\n",
              "      <td>0.000000</td>\n",
              "      <td>1.0</td>\n",
              "    </tr>\n",
              "    <tr>\n",
              "      <th>max</th>\n",
              "      <td>1.523650</td>\n",
              "      <td>17.38000</td>\n",
              "      <td>3.260000</td>\n",
              "      <td>3.500000</td>\n",
              "      <td>75.410000</td>\n",
              "      <td>6.210000</td>\n",
              "      <td>9.760000</td>\n",
              "      <td>2.880000</td>\n",
              "      <td>0.090000</td>\n",
              "      <td>1.0</td>\n",
              "    </tr>\n",
              "  </tbody>\n",
              "</table>\n",
              "</div>\n",
              "      <button class=\"colab-df-convert\" onclick=\"convertToInteractive('df-fe5cb0f7-974b-4773-8b05-54ea2efea4ec')\"\n",
              "              title=\"Convert this dataframe to an interactive table.\"\n",
              "              style=\"display:none;\">\n",
              "        \n",
              "  <svg xmlns=\"http://www.w3.org/2000/svg\" height=\"24px\"viewBox=\"0 0 24 24\"\n",
              "       width=\"24px\">\n",
              "    <path d=\"M0 0h24v24H0V0z\" fill=\"none\"/>\n",
              "    <path d=\"M18.56 5.44l.94 2.06.94-2.06 2.06-.94-2.06-.94-.94-2.06-.94 2.06-2.06.94zm-11 1L8.5 8.5l.94-2.06 2.06-.94-2.06-.94L8.5 2.5l-.94 2.06-2.06.94zm10 10l.94 2.06.94-2.06 2.06-.94-2.06-.94-.94-2.06-.94 2.06-2.06.94z\"/><path d=\"M17.41 7.96l-1.37-1.37c-.4-.4-.92-.59-1.43-.59-.52 0-1.04.2-1.43.59L10.3 9.45l-7.72 7.72c-.78.78-.78 2.05 0 2.83L4 21.41c.39.39.9.59 1.41.59.51 0 1.02-.2 1.41-.59l7.78-7.78 2.81-2.81c.8-.78.8-2.07 0-2.86zM5.41 20L4 18.59l7.72-7.72 1.47 1.35L5.41 20z\"/>\n",
              "  </svg>\n",
              "      </button>\n",
              "      \n",
              "  <style>\n",
              "    .colab-df-container {\n",
              "      display:flex;\n",
              "      flex-wrap:wrap;\n",
              "      gap: 12px;\n",
              "    }\n",
              "\n",
              "    .colab-df-convert {\n",
              "      background-color: #E8F0FE;\n",
              "      border: none;\n",
              "      border-radius: 50%;\n",
              "      cursor: pointer;\n",
              "      display: none;\n",
              "      fill: #1967D2;\n",
              "      height: 32px;\n",
              "      padding: 0 0 0 0;\n",
              "      width: 32px;\n",
              "    }\n",
              "\n",
              "    .colab-df-convert:hover {\n",
              "      background-color: #E2EBFA;\n",
              "      box-shadow: 0px 1px 2px rgba(60, 64, 67, 0.3), 0px 1px 3px 1px rgba(60, 64, 67, 0.15);\n",
              "      fill: #174EA6;\n",
              "    }\n",
              "\n",
              "    [theme=dark] .colab-df-convert {\n",
              "      background-color: #3B4455;\n",
              "      fill: #D2E3FC;\n",
              "    }\n",
              "\n",
              "    [theme=dark] .colab-df-convert:hover {\n",
              "      background-color: #434B5C;\n",
              "      box-shadow: 0px 1px 3px 1px rgba(0, 0, 0, 0.15);\n",
              "      filter: drop-shadow(0px 1px 2px rgba(0, 0, 0, 0.3));\n",
              "      fill: #FFFFFF;\n",
              "    }\n",
              "  </style>\n",
              "\n",
              "      <script>\n",
              "        const buttonEl =\n",
              "          document.querySelector('#df-fe5cb0f7-974b-4773-8b05-54ea2efea4ec button.colab-df-convert');\n",
              "        buttonEl.style.display =\n",
              "          google.colab.kernel.accessAllowed ? 'block' : 'none';\n",
              "\n",
              "        async function convertToInteractive(key) {\n",
              "          const element = document.querySelector('#df-fe5cb0f7-974b-4773-8b05-54ea2efea4ec');\n",
              "          const dataTable =\n",
              "            await google.colab.kernel.invokeFunction('convertToInteractive',\n",
              "                                                     [key], {});\n",
              "          if (!dataTable) return;\n",
              "\n",
              "          const docLinkHtml = 'Like what you see? Visit the ' +\n",
              "            '<a target=\"_blank\" href=https://colab.research.google.com/notebooks/data_table.ipynb>data table notebook</a>'\n",
              "            + ' to learn more about interactive tables.';\n",
              "          element.innerHTML = '';\n",
              "          dataTable['output_type'] = 'display_data';\n",
              "          await google.colab.output.renderOutput(dataTable, element);\n",
              "          const docLink = document.createElement('div');\n",
              "          docLink.innerHTML = docLinkHtml;\n",
              "          element.appendChild(docLink);\n",
              "        }\n",
              "      </script>\n",
              "    </div>\n",
              "  </div>\n",
              "  "
            ]
          },
          "metadata": {},
          "execution_count": 71
        }
      ]
    },
    {
      "cell_type": "code",
      "source": [
        "cluster2.describe()"
      ],
      "metadata": {
        "colab": {
          "base_uri": "https://localhost:8080/",
          "height": 300
        },
        "id": "5A5AJfAFOsyx",
        "outputId": "3a64a21a-ee5e-4c1b-dc0d-8b660d017a71"
      },
      "execution_count": 72,
      "outputs": [
        {
          "output_type": "execute_result",
          "data": {
            "text/plain": [
              "               a          b          c          d          e          f  \\\n",
              "count  21.000000  21.000000  21.000000  21.000000  21.000000  21.000000   \n",
              "mean    1.522690  12.953810   0.177619   1.377619  72.648571   0.392857   \n",
              "std     0.004692   1.187466   0.428193   0.521861   1.263207   0.605245   \n",
              "min     1.516530  10.730000   0.000000   0.560000  69.810000   0.000000   \n",
              "25%     1.519690  12.300000   0.000000   1.000000  72.190000   0.000000   \n",
              "50%     1.521190  12.970000   0.000000   1.400000  72.670000   0.190000   \n",
              "75%     1.526140  13.720000   0.000000   1.760000  73.390000   0.470000   \n",
              "max     1.533930  14.990000   1.610000   2.170000  75.180000   2.700000   \n",
              "\n",
              "               g          h          i  Cluster  \n",
              "count  21.000000  21.000000  21.000000     21.0  \n",
              "mean   12.074762   0.161429   0.087143      2.0  \n",
              "std     1.898512   0.686763   0.149504      0.0  \n",
              "min     8.930000   0.000000   0.000000      2.0  \n",
              "25%    10.990000   0.000000   0.000000      2.0  \n",
              "50%    11.520000   0.000000   0.000000      2.0  \n",
              "75%    13.300000   0.000000   0.100000      2.0  \n",
              "max    16.190000   3.150000   0.510000      2.0  "
            ],
            "text/html": [
              "\n",
              "  <div id=\"df-c9b3677d-91c8-4262-bd69-eb871e228af4\">\n",
              "    <div class=\"colab-df-container\">\n",
              "      <div>\n",
              "<style scoped>\n",
              "    .dataframe tbody tr th:only-of-type {\n",
              "        vertical-align: middle;\n",
              "    }\n",
              "\n",
              "    .dataframe tbody tr th {\n",
              "        vertical-align: top;\n",
              "    }\n",
              "\n",
              "    .dataframe thead th {\n",
              "        text-align: right;\n",
              "    }\n",
              "</style>\n",
              "<table border=\"1\" class=\"dataframe\">\n",
              "  <thead>\n",
              "    <tr style=\"text-align: right;\">\n",
              "      <th></th>\n",
              "      <th>a</th>\n",
              "      <th>b</th>\n",
              "      <th>c</th>\n",
              "      <th>d</th>\n",
              "      <th>e</th>\n",
              "      <th>f</th>\n",
              "      <th>g</th>\n",
              "      <th>h</th>\n",
              "      <th>i</th>\n",
              "      <th>Cluster</th>\n",
              "    </tr>\n",
              "  </thead>\n",
              "  <tbody>\n",
              "    <tr>\n",
              "      <th>count</th>\n",
              "      <td>21.000000</td>\n",
              "      <td>21.000000</td>\n",
              "      <td>21.000000</td>\n",
              "      <td>21.000000</td>\n",
              "      <td>21.000000</td>\n",
              "      <td>21.000000</td>\n",
              "      <td>21.000000</td>\n",
              "      <td>21.000000</td>\n",
              "      <td>21.000000</td>\n",
              "      <td>21.0</td>\n",
              "    </tr>\n",
              "    <tr>\n",
              "      <th>mean</th>\n",
              "      <td>1.522690</td>\n",
              "      <td>12.953810</td>\n",
              "      <td>0.177619</td>\n",
              "      <td>1.377619</td>\n",
              "      <td>72.648571</td>\n",
              "      <td>0.392857</td>\n",
              "      <td>12.074762</td>\n",
              "      <td>0.161429</td>\n",
              "      <td>0.087143</td>\n",
              "      <td>2.0</td>\n",
              "    </tr>\n",
              "    <tr>\n",
              "      <th>std</th>\n",
              "      <td>0.004692</td>\n",
              "      <td>1.187466</td>\n",
              "      <td>0.428193</td>\n",
              "      <td>0.521861</td>\n",
              "      <td>1.263207</td>\n",
              "      <td>0.605245</td>\n",
              "      <td>1.898512</td>\n",
              "      <td>0.686763</td>\n",
              "      <td>0.149504</td>\n",
              "      <td>0.0</td>\n",
              "    </tr>\n",
              "    <tr>\n",
              "      <th>min</th>\n",
              "      <td>1.516530</td>\n",
              "      <td>10.730000</td>\n",
              "      <td>0.000000</td>\n",
              "      <td>0.560000</td>\n",
              "      <td>69.810000</td>\n",
              "      <td>0.000000</td>\n",
              "      <td>8.930000</td>\n",
              "      <td>0.000000</td>\n",
              "      <td>0.000000</td>\n",
              "      <td>2.0</td>\n",
              "    </tr>\n",
              "    <tr>\n",
              "      <th>25%</th>\n",
              "      <td>1.519690</td>\n",
              "      <td>12.300000</td>\n",
              "      <td>0.000000</td>\n",
              "      <td>1.000000</td>\n",
              "      <td>72.190000</td>\n",
              "      <td>0.000000</td>\n",
              "      <td>10.990000</td>\n",
              "      <td>0.000000</td>\n",
              "      <td>0.000000</td>\n",
              "      <td>2.0</td>\n",
              "    </tr>\n",
              "    <tr>\n",
              "      <th>50%</th>\n",
              "      <td>1.521190</td>\n",
              "      <td>12.970000</td>\n",
              "      <td>0.000000</td>\n",
              "      <td>1.400000</td>\n",
              "      <td>72.670000</td>\n",
              "      <td>0.190000</td>\n",
              "      <td>11.520000</td>\n",
              "      <td>0.000000</td>\n",
              "      <td>0.000000</td>\n",
              "      <td>2.0</td>\n",
              "    </tr>\n",
              "    <tr>\n",
              "      <th>75%</th>\n",
              "      <td>1.526140</td>\n",
              "      <td>13.720000</td>\n",
              "      <td>0.000000</td>\n",
              "      <td>1.760000</td>\n",
              "      <td>73.390000</td>\n",
              "      <td>0.470000</td>\n",
              "      <td>13.300000</td>\n",
              "      <td>0.000000</td>\n",
              "      <td>0.100000</td>\n",
              "      <td>2.0</td>\n",
              "    </tr>\n",
              "    <tr>\n",
              "      <th>max</th>\n",
              "      <td>1.533930</td>\n",
              "      <td>14.990000</td>\n",
              "      <td>1.610000</td>\n",
              "      <td>2.170000</td>\n",
              "      <td>75.180000</td>\n",
              "      <td>2.700000</td>\n",
              "      <td>16.190000</td>\n",
              "      <td>3.150000</td>\n",
              "      <td>0.510000</td>\n",
              "      <td>2.0</td>\n",
              "    </tr>\n",
              "  </tbody>\n",
              "</table>\n",
              "</div>\n",
              "      <button class=\"colab-df-convert\" onclick=\"convertToInteractive('df-c9b3677d-91c8-4262-bd69-eb871e228af4')\"\n",
              "              title=\"Convert this dataframe to an interactive table.\"\n",
              "              style=\"display:none;\">\n",
              "        \n",
              "  <svg xmlns=\"http://www.w3.org/2000/svg\" height=\"24px\"viewBox=\"0 0 24 24\"\n",
              "       width=\"24px\">\n",
              "    <path d=\"M0 0h24v24H0V0z\" fill=\"none\"/>\n",
              "    <path d=\"M18.56 5.44l.94 2.06.94-2.06 2.06-.94-2.06-.94-.94-2.06-.94 2.06-2.06.94zm-11 1L8.5 8.5l.94-2.06 2.06-.94-2.06-.94L8.5 2.5l-.94 2.06-2.06.94zm10 10l.94 2.06.94-2.06 2.06-.94-2.06-.94-.94-2.06-.94 2.06-2.06.94z\"/><path d=\"M17.41 7.96l-1.37-1.37c-.4-.4-.92-.59-1.43-.59-.52 0-1.04.2-1.43.59L10.3 9.45l-7.72 7.72c-.78.78-.78 2.05 0 2.83L4 21.41c.39.39.9.59 1.41.59.51 0 1.02-.2 1.41-.59l7.78-7.78 2.81-2.81c.8-.78.8-2.07 0-2.86zM5.41 20L4 18.59l7.72-7.72 1.47 1.35L5.41 20z\"/>\n",
              "  </svg>\n",
              "      </button>\n",
              "      \n",
              "  <style>\n",
              "    .colab-df-container {\n",
              "      display:flex;\n",
              "      flex-wrap:wrap;\n",
              "      gap: 12px;\n",
              "    }\n",
              "\n",
              "    .colab-df-convert {\n",
              "      background-color: #E8F0FE;\n",
              "      border: none;\n",
              "      border-radius: 50%;\n",
              "      cursor: pointer;\n",
              "      display: none;\n",
              "      fill: #1967D2;\n",
              "      height: 32px;\n",
              "      padding: 0 0 0 0;\n",
              "      width: 32px;\n",
              "    }\n",
              "\n",
              "    .colab-df-convert:hover {\n",
              "      background-color: #E2EBFA;\n",
              "      box-shadow: 0px 1px 2px rgba(60, 64, 67, 0.3), 0px 1px 3px 1px rgba(60, 64, 67, 0.15);\n",
              "      fill: #174EA6;\n",
              "    }\n",
              "\n",
              "    [theme=dark] .colab-df-convert {\n",
              "      background-color: #3B4455;\n",
              "      fill: #D2E3FC;\n",
              "    }\n",
              "\n",
              "    [theme=dark] .colab-df-convert:hover {\n",
              "      background-color: #434B5C;\n",
              "      box-shadow: 0px 1px 3px 1px rgba(0, 0, 0, 0.15);\n",
              "      filter: drop-shadow(0px 1px 2px rgba(0, 0, 0, 0.3));\n",
              "      fill: #FFFFFF;\n",
              "    }\n",
              "  </style>\n",
              "\n",
              "      <script>\n",
              "        const buttonEl =\n",
              "          document.querySelector('#df-c9b3677d-91c8-4262-bd69-eb871e228af4 button.colab-df-convert');\n",
              "        buttonEl.style.display =\n",
              "          google.colab.kernel.accessAllowed ? 'block' : 'none';\n",
              "\n",
              "        async function convertToInteractive(key) {\n",
              "          const element = document.querySelector('#df-c9b3677d-91c8-4262-bd69-eb871e228af4');\n",
              "          const dataTable =\n",
              "            await google.colab.kernel.invokeFunction('convertToInteractive',\n",
              "                                                     [key], {});\n",
              "          if (!dataTable) return;\n",
              "\n",
              "          const docLinkHtml = 'Like what you see? Visit the ' +\n",
              "            '<a target=\"_blank\" href=https://colab.research.google.com/notebooks/data_table.ipynb>data table notebook</a>'\n",
              "            + ' to learn more about interactive tables.';\n",
              "          element.innerHTML = '';\n",
              "          dataTable['output_type'] = 'display_data';\n",
              "          await google.colab.output.renderOutput(dataTable, element);\n",
              "          const docLink = document.createElement('div');\n",
              "          docLink.innerHTML = docLinkHtml;\n",
              "          element.appendChild(docLink);\n",
              "        }\n",
              "      </script>\n",
              "    </div>\n",
              "  </div>\n",
              "  "
            ]
          },
          "metadata": {},
          "execution_count": 72
        }
      ]
    },
    {
      "cell_type": "code",
      "source": [],
      "metadata": {
        "id": "opK26Tur33qH"
      },
      "execution_count": 72,
      "outputs": []
    },
    {
      "cell_type": "markdown",
      "source": [
        "# ANOVA Test for Addictive\n",
        "\n",
        "\n",
        "\n"
      ],
      "metadata": {
        "id": "9D3Nha6ua-ob"
      }
    },
    {
      "cell_type": "code",
      "source": [
        "from scipy.stats import f_oneway\n",
        "# Perform ANOVA test\n",
        "f_statistic, p_value = f_oneway(cluster0, cluster1, cluster2)\n",
        "\n",
        "# Print the results\n",
        "print(\"ANOVA results:\")\n",
        "print(f\"  F-statistic: {f_statistic}\")\n",
        "print(f\"  p-value: {p_value}\")"
      ],
      "metadata": {
        "colab": {
          "base_uri": "https://localhost:8080/"
        },
        "id": "LGsocRCfOzub",
        "outputId": "ff8412ae-57f7-4a93-f07f-f316c2645ca2"
      },
      "execution_count": 73,
      "outputs": [
        {
          "output_type": "stream",
          "name": "stdout",
          "text": [
            "ANOVA results:\n",
            "  F-statistic: [ 38.56962264  56.80503592 559.1589841   73.61271715   0.56092826\n",
            "   1.2020141  124.09782699 104.77795746   4.55397649          inf]\n",
            "  p-value: [5.29351715e-15 1.83277439e-20 4.66608571e-85 5.60140464e-25\n",
            " 5.71527693e-01 3.02637942e-01 2.34981892e-36 2.50261408e-32\n",
            " 1.15805453e-02 0.00000000e+00]\n"
          ]
        },
        {
          "output_type": "stream",
          "name": "stderr",
          "text": [
            "/usr/local/lib/python3.10/dist-packages/scipy/stats/_stats_py.py:3895: ConstantInputWarning: Each of the input arrays is constant;the F statistic is not defined or infinite\n",
            "  warnings.warn(stats.ConstantInputWarning(msg))\n"
          ]
        }
      ]
    },
    {
      "cell_type": "code",
      "source": [
        "p_value = p_value[:-1] # remove cluster P value\n",
        "\n",
        "\n",
        "# Create a DataFrame to store the p-values\n",
        "df_p_values = pd.DataFrame({'P-value': p_value}, index=['a', 'b', 'c', 'd', 'e', 'f', 'g', 'h', 'i'])\n",
        "\n",
        "# Beautify the p-values in the DataFrame\n",
        "df_p_values['P-value'] = df_p_values['P-value'].apply(lambda x: '{:.30f}'.format(x))\n",
        "\n",
        "# Print the beautified DataFrame\n",
        "print(df_p_values)"
      ],
      "metadata": {
        "colab": {
          "base_uri": "https://localhost:8080/"
        },
        "id": "qeDkRWizQKVX",
        "outputId": "d962eef0-d652-451d-ee97-11c06ab42ed6"
      },
      "execution_count": 74,
      "outputs": [
        {
          "output_type": "stream",
          "name": "stdout",
          "text": [
            "                            P-value\n",
            "a  0.000000000000005293517148076943\n",
            "b  0.000000000000000000018327743852\n",
            "c  0.000000000000000000000000000000\n",
            "d  0.000000000000000000000000560140\n",
            "e  0.571527692725078417801398700249\n",
            "f  0.302637941565799872822850602461\n",
            "g  0.000000000000000000000000000000\n",
            "h  0.000000000000000000000000000000\n",
            "i  0.011580545262196375103092016445\n"
          ]
        }
      ]
    },
    {
      "cell_type": "code",
      "source": [
        "df_clustered.to_csv('/content/drive/MyDrive/Capstone Project/Ace Advisory/ingredient_clustered.csv',index = False)"
      ],
      "metadata": {
        "id": "Q__eKJGkREtw"
      },
      "execution_count": 245,
      "outputs": []
    },
    {
      "cell_type": "markdown",
      "source": [
        "# ANOVA Test for Major Component of Formula"
      ],
      "metadata": {
        "id": "O2qb0Qz7bK6R"
      }
    },
    {
      "cell_type": "code",
      "source": [
        "pca_comp = pd.DataFrame(additives_pca)\n",
        "pca_comp_filter = pca_comp[[0,1,2,3,4]]\n",
        "pca_comp_filter['Cluster'] = cluster_labels"
      ],
      "metadata": {
        "id": "XJnuFAviDxdq"
      },
      "execution_count": null,
      "outputs": []
    },
    {
      "cell_type": "code",
      "source": [
        "cluster0_ = pca_comp_filter.loc[pca_comp_filter['Cluster']==0]\n",
        "cluster1_ = pca_comp_filter.loc[pca_comp_filter['Cluster']==1]\n",
        "cluster2_ = pca_comp_filter.loc[pca_comp_filter['Cluster']==2]"
      ],
      "metadata": {
        "id": "Qa6jV0HfEeBW"
      },
      "execution_count": 90,
      "outputs": []
    },
    {
      "cell_type": "code",
      "source": [
        "# Perform ANOVA test\n",
        "f_statistic, p_value = f_oneway(cluster0_, cluster1_, cluster2_)\n",
        "\n",
        "# Print the results\n",
        "print(\"ANOVA results:\")\n",
        "print(f\"  F-statistic: {f_statistic}\")\n",
        "print(f\"  p-value: {p_value}\")"
      ],
      "metadata": {
        "colab": {
          "base_uri": "https://localhost:8080/"
        },
        "id": "aoSBnoepEkDU",
        "outputId": "dd751f56-305c-48d5-e3a5-b949996c1af0"
      },
      "execution_count": 91,
      "outputs": [
        {
          "output_type": "stream",
          "name": "stdout",
          "text": [
            "ANOVA results:\n",
            "  F-statistic: [621.8000526   79.81789329   4.55131329   9.55260913   7.29269765\n",
            "          inf]\n",
            "  p-value: [3.48616300e-89 1.54118082e-26 1.16101485e-02 1.06796422e-04\n",
            " 8.65945787e-04 0.00000000e+00]\n"
          ]
        },
        {
          "output_type": "stream",
          "name": "stderr",
          "text": [
            "/usr/local/lib/python3.10/dist-packages/scipy/stats/_stats_py.py:3895: ConstantInputWarning: Each of the input arrays is constant;the F statistic is not defined or infinite\n",
            "  warnings.warn(stats.ConstantInputWarning(msg))\n"
          ]
        }
      ]
    },
    {
      "cell_type": "code",
      "source": [
        "# Calculate the mean for each column within each cluster\n",
        "means_by_cluster = df_clustered.groupby('Cluster')[['a', 'b', 'c', 'd', 'e', 'f', 'g', 'h', 'i']].mean()\n",
        "\n",
        "means_df = pd.DataFrame()\n",
        "\n"
      ],
      "metadata": {
        "id": "HBCM6TouStwF"
      },
      "execution_count": 26,
      "outputs": []
    },
    {
      "cell_type": "code",
      "source": [
        "means_by_cluster"
      ],
      "metadata": {
        "colab": {
          "base_uri": "https://localhost:8080/",
          "height": 175
        },
        "id": "bbf7m_0IVFw-",
        "outputId": "0009f3b4-474f-4538-c3ee-4997df3d3287"
      },
      "execution_count": 27,
      "outputs": [
        {
          "output_type": "execute_result",
          "data": {
            "text/plain": [
              "                a          b         c         d          e         f  \\\n",
              "Cluster                                                                 \n",
              "0        1.518195  13.246235  3.431173  1.305494  72.625309  0.480802   \n",
              "1        1.516329  14.560000  0.480968  2.219032  72.786452  0.652581   \n",
              "2        1.522690  12.953810  0.177619  1.377619  72.648571  0.392857   \n",
              "\n",
              "                 g         h         i  \n",
              "Cluster                                 \n",
              "0         8.700000  0.015247  0.061605  \n",
              "1         8.187742  1.019355  0.012581  \n",
              "2        12.074762  0.161429  0.087143  "
            ],
            "text/html": [
              "\n",
              "  <div id=\"df-9411848a-c644-4412-872c-99bd03cb905b\">\n",
              "    <div class=\"colab-df-container\">\n",
              "      <div>\n",
              "<style scoped>\n",
              "    .dataframe tbody tr th:only-of-type {\n",
              "        vertical-align: middle;\n",
              "    }\n",
              "\n",
              "    .dataframe tbody tr th {\n",
              "        vertical-align: top;\n",
              "    }\n",
              "\n",
              "    .dataframe thead th {\n",
              "        text-align: right;\n",
              "    }\n",
              "</style>\n",
              "<table border=\"1\" class=\"dataframe\">\n",
              "  <thead>\n",
              "    <tr style=\"text-align: right;\">\n",
              "      <th></th>\n",
              "      <th>a</th>\n",
              "      <th>b</th>\n",
              "      <th>c</th>\n",
              "      <th>d</th>\n",
              "      <th>e</th>\n",
              "      <th>f</th>\n",
              "      <th>g</th>\n",
              "      <th>h</th>\n",
              "      <th>i</th>\n",
              "    </tr>\n",
              "    <tr>\n",
              "      <th>Cluster</th>\n",
              "      <th></th>\n",
              "      <th></th>\n",
              "      <th></th>\n",
              "      <th></th>\n",
              "      <th></th>\n",
              "      <th></th>\n",
              "      <th></th>\n",
              "      <th></th>\n",
              "      <th></th>\n",
              "    </tr>\n",
              "  </thead>\n",
              "  <tbody>\n",
              "    <tr>\n",
              "      <th>0</th>\n",
              "      <td>1.518195</td>\n",
              "      <td>13.246235</td>\n",
              "      <td>3.431173</td>\n",
              "      <td>1.305494</td>\n",
              "      <td>72.625309</td>\n",
              "      <td>0.480802</td>\n",
              "      <td>8.700000</td>\n",
              "      <td>0.015247</td>\n",
              "      <td>0.061605</td>\n",
              "    </tr>\n",
              "    <tr>\n",
              "      <th>1</th>\n",
              "      <td>1.516329</td>\n",
              "      <td>14.560000</td>\n",
              "      <td>0.480968</td>\n",
              "      <td>2.219032</td>\n",
              "      <td>72.786452</td>\n",
              "      <td>0.652581</td>\n",
              "      <td>8.187742</td>\n",
              "      <td>1.019355</td>\n",
              "      <td>0.012581</td>\n",
              "    </tr>\n",
              "    <tr>\n",
              "      <th>2</th>\n",
              "      <td>1.522690</td>\n",
              "      <td>12.953810</td>\n",
              "      <td>0.177619</td>\n",
              "      <td>1.377619</td>\n",
              "      <td>72.648571</td>\n",
              "      <td>0.392857</td>\n",
              "      <td>12.074762</td>\n",
              "      <td>0.161429</td>\n",
              "      <td>0.087143</td>\n",
              "    </tr>\n",
              "  </tbody>\n",
              "</table>\n",
              "</div>\n",
              "      <button class=\"colab-df-convert\" onclick=\"convertToInteractive('df-9411848a-c644-4412-872c-99bd03cb905b')\"\n",
              "              title=\"Convert this dataframe to an interactive table.\"\n",
              "              style=\"display:none;\">\n",
              "        \n",
              "  <svg xmlns=\"http://www.w3.org/2000/svg\" height=\"24px\"viewBox=\"0 0 24 24\"\n",
              "       width=\"24px\">\n",
              "    <path d=\"M0 0h24v24H0V0z\" fill=\"none\"/>\n",
              "    <path d=\"M18.56 5.44l.94 2.06.94-2.06 2.06-.94-2.06-.94-.94-2.06-.94 2.06-2.06.94zm-11 1L8.5 8.5l.94-2.06 2.06-.94-2.06-.94L8.5 2.5l-.94 2.06-2.06.94zm10 10l.94 2.06.94-2.06 2.06-.94-2.06-.94-.94-2.06-.94 2.06-2.06.94z\"/><path d=\"M17.41 7.96l-1.37-1.37c-.4-.4-.92-.59-1.43-.59-.52 0-1.04.2-1.43.59L10.3 9.45l-7.72 7.72c-.78.78-.78 2.05 0 2.83L4 21.41c.39.39.9.59 1.41.59.51 0 1.02-.2 1.41-.59l7.78-7.78 2.81-2.81c.8-.78.8-2.07 0-2.86zM5.41 20L4 18.59l7.72-7.72 1.47 1.35L5.41 20z\"/>\n",
              "  </svg>\n",
              "      </button>\n",
              "      \n",
              "  <style>\n",
              "    .colab-df-container {\n",
              "      display:flex;\n",
              "      flex-wrap:wrap;\n",
              "      gap: 12px;\n",
              "    }\n",
              "\n",
              "    .colab-df-convert {\n",
              "      background-color: #E8F0FE;\n",
              "      border: none;\n",
              "      border-radius: 50%;\n",
              "      cursor: pointer;\n",
              "      display: none;\n",
              "      fill: #1967D2;\n",
              "      height: 32px;\n",
              "      padding: 0 0 0 0;\n",
              "      width: 32px;\n",
              "    }\n",
              "\n",
              "    .colab-df-convert:hover {\n",
              "      background-color: #E2EBFA;\n",
              "      box-shadow: 0px 1px 2px rgba(60, 64, 67, 0.3), 0px 1px 3px 1px rgba(60, 64, 67, 0.15);\n",
              "      fill: #174EA6;\n",
              "    }\n",
              "\n",
              "    [theme=dark] .colab-df-convert {\n",
              "      background-color: #3B4455;\n",
              "      fill: #D2E3FC;\n",
              "    }\n",
              "\n",
              "    [theme=dark] .colab-df-convert:hover {\n",
              "      background-color: #434B5C;\n",
              "      box-shadow: 0px 1px 3px 1px rgba(0, 0, 0, 0.15);\n",
              "      filter: drop-shadow(0px 1px 2px rgba(0, 0, 0, 0.3));\n",
              "      fill: #FFFFFF;\n",
              "    }\n",
              "  </style>\n",
              "\n",
              "      <script>\n",
              "        const buttonEl =\n",
              "          document.querySelector('#df-9411848a-c644-4412-872c-99bd03cb905b button.colab-df-convert');\n",
              "        buttonEl.style.display =\n",
              "          google.colab.kernel.accessAllowed ? 'block' : 'none';\n",
              "\n",
              "        async function convertToInteractive(key) {\n",
              "          const element = document.querySelector('#df-9411848a-c644-4412-872c-99bd03cb905b');\n",
              "          const dataTable =\n",
              "            await google.colab.kernel.invokeFunction('convertToInteractive',\n",
              "                                                     [key], {});\n",
              "          if (!dataTable) return;\n",
              "\n",
              "          const docLinkHtml = 'Like what you see? Visit the ' +\n",
              "            '<a target=\"_blank\" href=https://colab.research.google.com/notebooks/data_table.ipynb>data table notebook</a>'\n",
              "            + ' to learn more about interactive tables.';\n",
              "          element.innerHTML = '';\n",
              "          dataTable['output_type'] = 'display_data';\n",
              "          await google.colab.output.renderOutput(dataTable, element);\n",
              "          const docLink = document.createElement('div');\n",
              "          docLink.innerHTML = docLinkHtml;\n",
              "          element.appendChild(docLink);\n",
              "        }\n",
              "      </script>\n",
              "    </div>\n",
              "  </div>\n",
              "  "
            ]
          },
          "metadata": {},
          "execution_count": 27
        }
      ]
    },
    {
      "cell_type": "code",
      "source": [],
      "metadata": {
        "id": "jij_p122qo-U"
      },
      "execution_count": 25,
      "outputs": []
    },
    {
      "cell_type": "code",
      "source": [],
      "metadata": {
        "id": "tvCnlKRFqqia"
      },
      "execution_count": 25,
      "outputs": []
    },
    {
      "cell_type": "code",
      "source": [
        "import pandas as pd\n",
        "import matplotlib.pyplot as plt\n",
        "\n",
        "# Assuming you have a DataFrame named 'df' with columns G, H, and 'Cluster' representing the cluster labels\n",
        "\n",
        "# Plot columns G and H for each cluster\n",
        "plt.scatter(cluster0['g'], cluster0['c'], c='red', label='Cluster 0')\n",
        "plt.scatter(cluster1['g'], cluster1['c'], c='blue', label='Cluster 1')\n",
        "plt.scatter(cluster2['g'], cluster2['c'], c='green', label='Cluster 2')\n",
        "\n",
        "# Add labels and legend\n",
        "plt.xlabel('Column G')\n",
        "plt.ylabel('Column H')\n",
        "plt.legend()\n",
        "\n",
        "# Show the plot\n",
        "plt.show()"
      ],
      "metadata": {
        "colab": {
          "base_uri": "https://localhost:8080/",
          "height": 449
        },
        "id": "hhbYxO1IVpj2",
        "outputId": "fde52733-78f0-4b84-9c96-fec84dcf937c"
      },
      "execution_count": 260,
      "outputs": [
        {
          "output_type": "display_data",
          "data": {
            "text/plain": [
              "<Figure size 640x480 with 1 Axes>"
            ],
            "image/png": "[encoded data removed]"
          },
          "metadata": {}
        }
      ]
    },
    {
      "cell_type": "code",
      "source": [
        "import pandas as pd\n",
        "import matplotlib.pyplot as plt\n",
        "\n",
        "# Assuming you have a DataFrame named 'df' with columns G, H, and 'Cluster' representing the cluster labels\n",
        "\n",
        "# Plot columns G and H for each cluster\n",
        "plt.scatter(cluster0['d'], cluster0['c'], c='red', label='Cluster 0')\n",
        "plt.scatter(cluster1['d'], cluster1['c'], c='blue', label='Cluster 1')\n",
        "plt.scatter(cluster2['d'], cluster2['c'], c='green', label='Cluster 2')\n",
        "\n",
        "# Add labels and legend\n",
        "plt.xlabel('Column D')\n",
        "plt.ylabel('Column C')\n",
        "plt.legend()\n",
        "\n",
        "# Show the plot\n",
        "plt.show()"
      ],
      "metadata": {
        "colab": {
          "base_uri": "https://localhost:8080/",
          "height": 449
        },
        "id": "WVbUEziIDgOj",
        "outputId": "8cbe551d-4c05-45ea-8eb2-4b5c8292ceec"
      },
      "execution_count": 10,
      "outputs": [
        {
          "output_type": "display_data",
          "data": {
            "text/plain": [
              "<Figure size 640x480 with 1 Axes>"
            ],
            "image/png": "[encoded data removed]"
          },
          "metadata": {}
        }
      ]
    },
    {
      "cell_type": "code",
      "source": [
        "df_clustered = pd.read_csv('/content/drive/MyDrive/Capstone Project/Ace Advisory/ingredient_clustered.csv')"
      ],
      "metadata": {
        "id": "pgtfUzKdWmGT"
      },
      "execution_count": 6,
      "outputs": []
    },
    {
      "cell_type": "code",
      "source": [
        "df_clustered.head()"
      ],
      "metadata": {
        "colab": {
          "base_uri": "https://localhost:8080/",
          "height": 206
        },
        "id": "LVsFrkizLTAG",
        "outputId": "d99ad169-ef0d-4a2b-814a-7b38c907b0f9"
      },
      "execution_count": 6,
      "outputs": [
        {
          "output_type": "execute_result",
          "data": {
            "text/plain": [
              "         a      b     c     d      e     f      g     h     i  Cluster\n",
              "0  1.51735  13.02  3.54  1.69  72.73  0.54   8.44  0.00  0.07        0\n",
              "1  1.53125  10.73  0.00  2.10  69.81  0.58  13.30  3.15  0.28        2\n",
              "2  1.52300  13.31  3.58  0.82  71.99  0.12  10.17  0.00  0.03        0\n",
              "3  1.51768  12.56  3.52  1.43  73.15  0.57   8.54  0.00  0.00        0\n",
              "4  1.51813  13.43  3.98  1.18  72.49  0.58   8.15  0.00  0.00        0"
            ],
            "text/html": [
              "\n",
              "  <div id=\"df-a7ffee2f-9f42-4733-99ea-6f40762bf3aa\">\n",
              "    <div class=\"colab-df-container\">\n",
              "      <div>\n",
              "<style scoped>\n",
              "    .dataframe tbody tr th:only-of-type {\n",
              "        vertical-align: middle;\n",
              "    }\n",
              "\n",
              "    .dataframe tbody tr th {\n",
              "        vertical-align: top;\n",
              "    }\n",
              "\n",
              "    .dataframe thead th {\n",
              "        text-align: right;\n",
              "    }\n",
              "</style>\n",
              "<table border=\"1\" class=\"dataframe\">\n",
              "  <thead>\n",
              "    <tr style=\"text-align: right;\">\n",
              "      <th></th>\n",
              "      <th>a</th>\n",
              "      <th>b</th>\n",
              "      <th>c</th>\n",
              "      <th>d</th>\n",
              "      <th>e</th>\n",
              "      <th>f</th>\n",
              "      <th>g</th>\n",
              "      <th>h</th>\n",
              "      <th>i</th>\n",
              "      <th>Cluster</th>\n",
              "    </tr>\n",
              "  </thead>\n",
              "  <tbody>\n",
              "    <tr>\n",
              "      <th>0</th>\n",
              "      <td>1.51735</td>\n",
              "      <td>13.02</td>\n",
              "      <td>3.54</td>\n",
              "      <td>1.69</td>\n",
              "      <td>72.73</td>\n",
              "      <td>0.54</td>\n",
              "      <td>8.44</td>\n",
              "      <td>0.00</td>\n",
              "      <td>0.07</td>\n",
              "      <td>0</td>\n",
              "    </tr>\n",
              "    <tr>\n",
              "      <th>1</th>\n",
              "      <td>1.53125</td>\n",
              "      <td>10.73</td>\n",
              "      <td>0.00</td>\n",
              "      <td>2.10</td>\n",
              "      <td>69.81</td>\n",
              "      <td>0.58</td>\n",
              "      <td>13.30</td>\n",
              "      <td>3.15</td>\n",
              "      <td>0.28</td>\n",
              "      <td>2</td>\n",
              "    </tr>\n",
              "    <tr>\n",
              "      <th>2</th>\n",
              "      <td>1.52300</td>\n",
              "      <td>13.31</td>\n",
              "      <td>3.58</td>\n",
              "      <td>0.82</td>\n",
              "      <td>71.99</td>\n",
              "      <td>0.12</td>\n",
              "      <td>10.17</td>\n",
              "      <td>0.00</td>\n",
              "      <td>0.03</td>\n",
              "      <td>0</td>\n",
              "    </tr>\n",
              "    <tr>\n",
              "      <th>3</th>\n",
              "      <td>1.51768</td>\n",
              "      <td>12.56</td>\n",
              "      <td>3.52</td>\n",
              "      <td>1.43</td>\n",
              "      <td>73.15</td>\n",
              "      <td>0.57</td>\n",
              "      <td>8.54</td>\n",
              "      <td>0.00</td>\n",
              "      <td>0.00</td>\n",
              "      <td>0</td>\n",
              "    </tr>\n",
              "    <tr>\n",
              "      <th>4</th>\n",
              "      <td>1.51813</td>\n",
              "      <td>13.43</td>\n",
              "      <td>3.98</td>\n",
              "      <td>1.18</td>\n",
              "      <td>72.49</td>\n",
              "      <td>0.58</td>\n",
              "      <td>8.15</td>\n",
              "      <td>0.00</td>\n",
              "      <td>0.00</td>\n",
              "      <td>0</td>\n",
              "    </tr>\n",
              "  </tbody>\n",
              "</table>\n",
              "</div>\n",
              "      <button class=\"colab-df-convert\" onclick=\"convertToInteractive('df-a7ffee2f-9f42-4733-99ea-6f40762bf3aa')\"\n",
              "              title=\"Convert this dataframe to an interactive table.\"\n",
              "              style=\"display:none;\">\n",
              "        \n",
              "  <svg xmlns=\"http://www.w3.org/2000/svg\" height=\"24px\"viewBox=\"0 0 24 24\"\n",
              "       width=\"24px\">\n",
              "    <path d=\"M0 0h24v24H0V0z\" fill=\"none\"/>\n",
              "    <path d=\"M18.56 5.44l.94 2.06.94-2.06 2.06-.94-2.06-.94-.94-2.06-.94 2.06-2.06.94zm-11 1L8.5 8.5l.94-2.06 2.06-.94-2.06-.94L8.5 2.5l-.94 2.06-2.06.94zm10 10l.94 2.06.94-2.06 2.06-.94-2.06-.94-.94-2.06-.94 2.06-2.06.94z\"/><path d=\"M17.41 7.96l-1.37-1.37c-.4-.4-.92-.59-1.43-.59-.52 0-1.04.2-1.43.59L10.3 9.45l-7.72 7.72c-.78.78-.78 2.05 0 2.83L4 21.41c.39.39.9.59 1.41.59.51 0 1.02-.2 1.41-.59l7.78-7.78 2.81-2.81c.8-.78.8-2.07 0-2.86zM5.41 20L4 18.59l7.72-7.72 1.47 1.35L5.41 20z\"/>\n",
              "  </svg>\n",
              "      </button>\n",
              "      \n",
              "  <style>\n",
              "    .colab-df-container {\n",
              "      display:flex;\n",
              "      flex-wrap:wrap;\n",
              "      gap: 12px;\n",
              "    }\n",
              "\n",
              "    .colab-df-convert {\n",
              "      background-color: #E8F0FE;\n",
              "      border: none;\n",
              "      border-radius: 50%;\n",
              "      cursor: pointer;\n",
              "      display: none;\n",
              "      fill: #1967D2;\n",
              "      height: 32px;\n",
              "      padding: 0 0 0 0;\n",
              "      width: 32px;\n",
              "    }\n",
              "\n",
              "    .colab-df-convert:hover {\n",
              "      background-color: #E2EBFA;\n",
              "      box-shadow: 0px 1px 2px rgba(60, 64, 67, 0.3), 0px 1px 3px 1px rgba(60, 64, 67, 0.15);\n",
              "      fill: #174EA6;\n",
              "    }\n",
              "\n",
              "    [theme=dark] .colab-df-convert {\n",
              "      background-color: #3B4455;\n",
              "      fill: #D2E3FC;\n",
              "    }\n",
              "\n",
              "    [theme=dark] .colab-df-convert:hover {\n",
              "      background-color: #434B5C;\n",
              "      box-shadow: 0px 1px 3px 1px rgba(0, 0, 0, 0.15);\n",
              "      filter: drop-shadow(0px 1px 2px rgba(0, 0, 0, 0.3));\n",
              "      fill: #FFFFFF;\n",
              "    }\n",
              "  </style>\n",
              "\n",
              "      <script>\n",
              "        const buttonEl =\n",
              "          document.querySelector('#df-a7ffee2f-9f42-4733-99ea-6f40762bf3aa button.colab-df-convert');\n",
              "        buttonEl.style.display =\n",
              "          google.colab.kernel.accessAllowed ? 'block' : 'none';\n",
              "\n",
              "        async function convertToInteractive(key) {\n",
              "          const element = document.querySelector('#df-a7ffee2f-9f42-4733-99ea-6f40762bf3aa');\n",
              "          const dataTable =\n",
              "            await google.colab.kernel.invokeFunction('convertToInteractive',\n",
              "                                                     [key], {});\n",
              "          if (!dataTable) return;\n",
              "\n",
              "          const docLinkHtml = 'Like what you see? Visit the ' +\n",
              "            '<a target=\"_blank\" href=https://colab.research.google.com/notebooks/data_table.ipynb>data table notebook</a>'\n",
              "            + ' to learn more about interactive tables.';\n",
              "          element.innerHTML = '';\n",
              "          dataTable['output_type'] = 'display_data';\n",
              "          await google.colab.output.renderOutput(dataTable, element);\n",
              "          const docLink = document.createElement('div');\n",
              "          docLink.innerHTML = docLinkHtml;\n",
              "          element.appendChild(docLink);\n",
              "        }\n",
              "      </script>\n",
              "    </div>\n",
              "  </div>\n",
              "  "
            ]
          },
          "metadata": {},
          "execution_count": 6
        }
      ]
    },
    {
      "cell_type": "code",
      "source": [
        "# Plotting\n",
        "sns.boxplot(data=df_clustered, x='Cluster', y='a')\n",
        "plt.xlabel('Cluster')\n",
        "plt.ylabel('Value')\n",
        "plt.title('Boxplot - Additives A')\n",
        "plt.show()"
      ],
      "metadata": {
        "colab": {
          "base_uri": "https://localhost:8080/",
          "height": 472
        },
        "id": "XhbCuZdsOvMD",
        "outputId": "1e05e139-f2e1-4246-9215-adc2b70556d5"
      },
      "execution_count": 13,
      "outputs": [
        {
          "output_type": "display_data",
          "data": {
            "text/plain": [
              "<Figure size 640x480 with 1 Axes>"
            ],
            "image/png": "[encoded data removed]"
          },
          "metadata": {}
        }
      ]
    },
    {
      "cell_type": "code",
      "source": [
        "# Plotting\n",
        "sns.boxplot(data=df_clustered, x='Cluster', y='b')\n",
        "plt.xlabel('Cluster')\n",
        "plt.ylabel('Value')\n",
        "plt.title('Boxplot - Additives B')\n",
        "plt.show()"
      ],
      "metadata": {
        "colab": {
          "base_uri": "https://localhost:8080/",
          "height": 472
        },
        "id": "ThAdDKSuT0NW",
        "outputId": "9bb54bd8-8d7b-4677-951a-2fa7cecd577f"
      },
      "execution_count": 14,
      "outputs": [
        {
          "output_type": "display_data",
          "data": {
            "text/plain": [
              "<Figure size 640x480 with 1 Axes>"
            ],
            "image/png": "[encoded data removed]"
          },
          "metadata": {}
        }
      ]
    },
    {
      "cell_type": "code",
      "source": [
        "# Plotting\n",
        "sns.boxplot(data=df_clustered, x='Cluster', y='c')\n",
        "plt.xlabel('Cluster')\n",
        "plt.ylabel('Value')\n",
        "plt.title('Boxplot - Additives C')\n",
        "plt.show()"
      ],
      "metadata": {
        "colab": {
          "base_uri": "https://localhost:8080/",
          "height": 472
        },
        "id": "wqWuS2ozo6HB",
        "outputId": "5e96b4a5-3f32-4326-c3dc-7a4eb8c05c2e"
      },
      "execution_count": 15,
      "outputs": [
        {
          "output_type": "display_data",
          "data": {
            "text/plain": [
              "<Figure size 640x480 with 1 Axes>"
            ],
            "image/png": "[encoded data removed]"
          },
          "metadata": {}
        }
      ]
    },
    {
      "cell_type": "code",
      "source": [
        "# Plotting\n",
        "sns.boxplot(data=df_clustered, x='Cluster', y='d')\n",
        "plt.xlabel('Cluster')\n",
        "plt.ylabel('Value')\n",
        "plt.title('Boxplot - Additives D')\n",
        "plt.show()"
      ],
      "metadata": {
        "colab": {
          "base_uri": "https://localhost:8080/",
          "height": 472
        },
        "id": "QTuIqb6xpEjn",
        "outputId": "53eb49fe-0bff-4244-c0c4-05f24ccd2f6b"
      },
      "execution_count": 17,
      "outputs": [
        {
          "output_type": "display_data",
          "data": {
            "text/plain": [
              "<Figure size 640x480 with 1 Axes>"
            ],
            "image/png": "[encoded data removed]"
          },
          "metadata": {}
        }
      ]
    },
    {
      "cell_type": "code",
      "source": [
        "# Plotting\n",
        "sns.boxplot(data=df_clustered, x='Cluster', y='g')\n",
        "plt.xlabel('Cluster')\n",
        "plt.ylabel('Value')\n",
        "plt.title('Boxplot - Additives G')\n",
        "plt.show()"
      ],
      "metadata": {
        "colab": {
          "base_uri": "https://localhost:8080/",
          "height": 472
        },
        "id": "y51qchEepcBK",
        "outputId": "0fa905d3-4833-4a02-8755-15393ee631c2"
      },
      "execution_count": 28,
      "outputs": [
        {
          "output_type": "display_data",
          "data": {
            "text/plain": [
              "<Figure size 640x480 with 1 Axes>"
            ],
            "image/png": "[encoded data removed]"
          },
          "metadata": {}
        }
      ]
    },
    {
      "cell_type": "code",
      "source": [
        "# Plotting\n",
        "sns.boxplot(data=df_clustered, x='Cluster', y='h')\n",
        "plt.xlabel('Cluster')\n",
        "plt.ylabel('Value')\n",
        "plt.title('Boxplot - Additives H')\n",
        "plt.show()"
      ],
      "metadata": {
        "colab": {
          "base_uri": "https://localhost:8080/",
          "height": 472
        },
        "id": "DMCrqJkQrFi7",
        "outputId": "ef1bd63f-eafc-4b43-e45d-47eaa01fba13"
      },
      "execution_count": 29,
      "outputs": [
        {
          "output_type": "display_data",
          "data": {
            "text/plain": [
              "<Figure size 640x480 with 1 Axes>"
            ],
            "image/png": "[encoded data removed]"
          },
          "metadata": {}
        }
      ]
    },
    {
      "cell_type": "code",
      "source": [
        "# Plotting\n",
        "sns.boxplot(data=df_clustered, x='Cluster', y='i')\n",
        "plt.xlabel('Cluster')\n",
        "plt.ylabel('Value')\n",
        "plt.title('Boxplot - Additives I')\n",
        "plt.show()"
      ],
      "metadata": {
        "colab": {
          "base_uri": "https://localhost:8080/",
          "height": 472
        },
        "id": "GZmQdjNprKZ5",
        "outputId": "5862a7d1-e178-45cd-f011-3b53b6beb7c5"
      },
      "execution_count": 30,
      "outputs": [
        {
          "output_type": "display_data",
          "data": {
            "text/plain": [
              "<Figure size 640x480 with 1 Axes>"
            ],
            "image/png": "[encoded data removed]"
          },
          "metadata": {}
        }
      ]
    },
    {
      "cell_type": "code",
      "source": [],
      "metadata": {
        "id": "UKm69aFArPZF"
      },
      "execution_count": 78,
      "outputs": []
    },
    {
      "cell_type": "code",
      "source": [],
      "metadata": {
        "id": "8Ap2dSiwDYAX"
      },
      "execution_count": 78,
      "outputs": []
    },
    {
      "cell_type": "code",
      "source": [],
      "metadata": {
        "colab": {
          "base_uri": "https://localhost:8080/",
          "height": 171
        },
        "id": "pwmoCoExD2cU",
        "outputId": "2b35eafc-6a38-43ab-9d74-007e7c840b19"
      },
      "execution_count": 1,
      "outputs": [
        {
          "output_type": "error",
          "ename": "NameError",
          "evalue": "ignored",
          "traceback": [
            "\u001b[0;31m---------------------------------------------------------------------------\u001b[0m",
            "\u001b[0;31mNameError\u001b[0m                                 Traceback (most recent call last)",
            "\u001b[0;32m<ipython-input-1-6c10289a8da7>\u001b[0m in \u001b[0;36m<cell line: 1>\u001b[0;34m()\u001b[0m\n\u001b[0;32m----> 1\u001b[0;31m \u001b[0mp\u001b[0m\u001b[0;34m\u001b[0m\u001b[0;34m\u001b[0m\u001b[0m\n\u001b[0m",
            "\u001b[0;31mNameError\u001b[0m: name 'p' is not defined"
          ]
        }
      ]
    },
    {
      "cell_type": "code",
      "source": [],
      "metadata": {
        "id": "2vOACUe9E5eW"
      },
      "execution_count": null,
      "outputs": []
    }
  ]
}